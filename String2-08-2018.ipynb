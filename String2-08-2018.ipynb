{
 "cells": [
  {
   "cell_type": "code",
   "execution_count": 1,
   "metadata": {},
   "outputs": [
    {
     "name": "stdout",
     "output_type": "stream",
     "text": [
      "HELLO WORLD!\n",
      "Hello World!\n",
      "hello world!\n"
     ]
    }
   ],
   "source": [
    "# String manipulation\n",
    "x = 'hello world!'\n",
    "print(x.upper())\n",
    "print(x.title())\n",
    "print(x.lower())"
   ]
  },
  {
   "cell_type": "code",
   "execution_count": 2,
   "metadata": {},
   "outputs": [
    {
     "name": "stdout",
     "output_type": "stream",
     "text": [
      "Comsci Inter Bangmod\n"
     ]
    }
   ],
   "source": [
    "myString = '   Comsci Inter Bangmod    '\n",
    "myString = myString.strip()\n",
    "print(myString)"
   ]
  },
  {
   "cell_type": "code",
   "execution_count": 3,
   "metadata": {},
   "outputs": [
    {
     "name": "stdout",
     "output_type": "stream",
     "text": [
      "Comsci Inter Bangmod\n"
     ]
    }
   ],
   "source": [
    "myString = '   Comsci Inter Bangmod    '\n",
    "myString = myString.lstrip()\n",
    "myString = myString.rstrip()\n",
    "print(myString)"
   ]
  },
  {
   "cell_type": "code",
   "execution_count": 5,
   "metadata": {},
   "outputs": [
    {
     "name": "stdout",
     "output_type": "stream",
     "text": [
      "Comsci Inter Bangmod\n"
     ]
    }
   ],
   "source": [
    "myString = '###Comsci Inter Bangmod****'\n",
    "myString = myString.strip('*')\n",
    "myString = myString.strip('#')\n",
    "print(myString)"
   ]
  },
  {
   "cell_type": "code",
   "execution_count": 7,
   "metadata": {},
   "outputs": [
    {
     "name": "stdout",
     "output_type": "stream",
     "text": [
      "the length is 43\n",
      "number of space is 8\n",
      "number of characters is 35\n",
      "a appears 1 times\n",
      "the appears 2 times\n"
     ]
    }
   ],
   "source": [
    "string = 'the quick brown fox jumps over the lazy dog.'\n",
    "length = len(string.strip('.'))\n",
    "print('the length is %d' % length)\n",
    "noOfSpace = string.count(' ')\n",
    "print('number of space is %d' % noOfSpace)\n",
    "print('number of characters is %d' % (length-noOfSpace))\n",
    "noOfA = string.count('a')\n",
    "noOfThe = string.count('the')\n",
    "print('a appears %d times' % noOfA)\n",
    "print('the appears %d times' % noOfThe)"
   ]
  },
  {
   "cell_type": "code",
   "execution_count": 8,
   "metadata": {},
   "outputs": [
    {
     "name": "stdout",
     "output_type": "stream",
     "text": [
      "a\n",
      "98\n"
     ]
    }
   ],
   "source": [
    "# ASCII\n",
    "# Casting\n",
    "a = 97\n",
    "cOfa = chr(a)\n",
    "print(cOfa)\n",
    "\n",
    "b = 'b'\n",
    "nOfb = ord(b)\n",
    "print(nOfb)\n",
    "\n"
   ]
  },
  {
   "cell_type": "code",
   "execution_count": 9,
   "metadata": {},
   "outputs": [
    {
     "name": "stdout",
     "output_type": "stream",
     "text": [
      "H,e,l,l,o, ,W,o,r,l,d\n"
     ]
    }
   ],
   "source": [
    "x = 'Hello World'\n",
    "print(','.join(x))"
   ]
  },
  {
   "cell_type": "code",
   "execution_count": 10,
   "metadata": {},
   "outputs": [],
   "source": [
    "# Create a string variable namely myName\n",
    "# Assign the value to myName by writing fIrStNaMe LaStNaMe\n",
    "# Using slice to format myName to Firstname Lastname\n",
    "# print the final output\n",
    "myName = 'djlsafjdslkf sdafhdsakjfhdskjfhdsflkdshf'\n",
    "# To-Do\n",
    "#formatName = myName[0].upper() + myName[1:7].lower() \n",
    "             #+ myName[7].upper() + myName[8:].lower()\n",
    "#print(formatName)"
   ]
  },
  {
   "cell_type": "code",
   "execution_count": 12,
   "metadata": {},
   "outputs": [
    {
     "ename": "IndentationError",
     "evalue": "unexpected indent (<ipython-input-12-2cc7a1a7439a>, line 5)",
     "output_type": "error",
     "traceback": [
      "\u001b[1;36m  File \u001b[1;32m\"<ipython-input-12-2cc7a1a7439a>\"\u001b[1;36m, line \u001b[1;32m5\u001b[0m\n\u001b[1;33m    + myName[1:whereIsWhiteSpace+1].lower()\u001b[0m\n\u001b[1;37m    ^\u001b[0m\n\u001b[1;31mIndentationError\u001b[0m\u001b[1;31m:\u001b[0m unexpected indent\n"
     ]
    }
   ],
   "source": [
    "myName = 'elon musk'\n",
    "myName = myName.strip()\n",
    "whereIsWhiteSpace = myName.index(' ')\n",
    "formatName = myName[0].upper() \n",
    "             + myName[1:whereIsWhiteSpace+1].lower() \n",
    "             + myName[whereIsWhiteSpace+1].upper() \n",
    "             + myName[whereIsWhiteSpace+2:].lower()\n",
    "print(formatName)"
   ]
  },
  {
   "cell_type": "code",
   "execution_count": null,
   "metadata": {},
   "outputs": [],
   "source": []
  }
 ],
 "metadata": {
  "kernelspec": {
   "display_name": "Python 3",
   "language": "python",
   "name": "python3"
  },
  "language_info": {
   "codemirror_mode": {
    "name": "ipython",
    "version": 3
   },
   "file_extension": ".py",
   "mimetype": "text/x-python",
   "name": "python",
   "nbconvert_exporter": "python",
   "pygments_lexer": "ipython3",
   "version": "3.7.0"
  }
 },
 "nbformat": 4,
 "nbformat_minor": 2
}
