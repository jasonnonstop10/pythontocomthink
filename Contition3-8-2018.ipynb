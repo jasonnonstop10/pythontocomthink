{
 "cells": [
  {
   "cell_type": "markdown",
   "metadata": {},
   "source": [
    "#number \n",
    "#create a variable wallet\n",
    "#assign value to wallet = 15,668\n",
    "#try to print how many of money in wallet as follows:\n",
    "#1000:15\n",
    "#500:1\n",
    "#100:1\n",
    "#50:1\n",
    "#20:0\n",
    "#10:1\n",
    "#5:1\n"
   ]
  },
  {
   "cell_type": "code",
   "execution_count": 39,
   "metadata": {},
   "outputs": [
    {
     "name": "stdout",
     "output_type": "stream",
     "text": [
      "1000: 10\n",
      "50: 0\n",
      "100: 0\n",
      "50: 0\n",
      "20: 0\n",
      "10: 0\n",
      "5: 0\n",
      "2: 0\n",
      "1: 0\n"
     ]
    }
   ],
   "source": [
    "wallet = 10000\n",
    "print ('1000: %d' % (wallet / 1000))\n",
    "wallet = wallet%1000\n",
    "print ('50: %d' % (wallet / 500))\n",
    "wallet = wallet%500\n",
    "print ('100: %d' % (wallet / 100))\n",
    "wallet = wallet%100\n",
    "print ('50: %d' % (wallet / 50))\n",
    "wallet = wallet%50\n",
    "print ('20: %d' % (wallet / 20))\n",
    "wallet = wallet%20\n",
    "print ('10: %d' % (wallet / 10))\n",
    "wallet = wallet%10\n",
    "print ('5: %d' % (wallet / 5))\n",
    "wallet = wallet%5\n",
    "print ('2: %d' % (wallet / 2))\n",
    "wallet = wallet%2\n",
    "print ('1: %d' % (wallet / 1))\n",
    "wallet = wallet%1"
   ]
  },
  {
   "cell_type": "code",
   "execution_count": 42,
   "metadata": {},
   "outputs": [
    {
     "name": "stdout",
     "output_type": "stream",
     "text": [
      "ok\n"
     ]
    }
   ],
   "source": [
    "# contril statement \n",
    "# condittion if ,if-else, if-else-if, swich-case\n",
    "# and, or ,not \n",
    "x = 0\n",
    "if x >= 0:\n",
    "    print ('ok')"
   ]
  },
  {
   "cell_type": "code",
   "execution_count": 45,
   "metadata": {},
   "outputs": [
    {
     "name": "stdout",
     "output_type": "stream",
     "text": [
      "ok\n"
     ]
    }
   ],
   "source": [
    "x= 50\n",
    "if x>=0 and x<=100:\n",
    "    print('ok')"
   ]
  },
  {
   "cell_type": "code",
   "execution_count": 49,
   "metadata": {},
   "outputs": [
    {
     "name": "stdout",
     "output_type": "stream",
     "text": [
      "Just go outside w/o unbrella\n"
     ]
    }
   ],
   "source": [
    "isItsRain= False\n",
    "if isItsRain :\n",
    "    print('don\\'t forget your umberlla')\n",
    "else:\n",
    "    print('Just go outside w/o unbrella')"
   ]
  },
  {
   "cell_type": "code",
   "execution_count": 51,
   "metadata": {},
   "outputs": [
    {
     "name": "stdout",
     "output_type": "stream",
     "text": [
      "don't forget your umberlla\n"
     ]
    }
   ],
   "source": [
    "isItsRain= False\n",
    "outsieTemp = 38.5\n",
    "bodyTep = 36.5\n",
    "if isItsRain :\n",
    "    print('don\\'t forget your umberlla')\n",
    "elif outsieTemp>bodyTep:\n",
    "    print('don\\'t forget your umberlla')\n",
    "else:\n",
    "    print('Just go outside w/o unbrella')"
   ]
  },
  {
   "cell_type": "code",
   "execution_count": 56,
   "metadata": {},
   "outputs": [
    {
     "name": "stdout",
     "output_type": "stream",
     "text": [
      "you got C(complete)\n"
     ]
    }
   ],
   "source": [
    "score = 70\n",
    "if score >= 0 and score <= 50:\n",
    "    print('you get F (full)')\n",
    "elif score >= 50 and score <= 60:\n",
    "    print('you got D(dellent)')\n",
    "elif score >= 60 and score <= 70:\n",
    "    print('you got C(complete)')\n",
    "elif score >= 70 and score <= 80:\n",
    "    print('you got B(best)')\n",
    "elif score >= 80 and score <= 100:\n",
    "    print('you got A(averang)')"
   ]
  }
 ],
 "metadata": {
  "kernelspec": {
   "display_name": "Python 3",
   "language": "python",
   "name": "python3"
  },
  "language_info": {
   "codemirror_mode": {
    "name": "ipython",
    "version": 3
   },
   "file_extension": ".py",
   "mimetype": "text/x-python",
   "name": "python",
   "nbconvert_exporter": "python",
   "pygments_lexer": "ipython3",
   "version": "3.7.0"
  }
 },
 "nbformat": 4,
 "nbformat_minor": 2
}
