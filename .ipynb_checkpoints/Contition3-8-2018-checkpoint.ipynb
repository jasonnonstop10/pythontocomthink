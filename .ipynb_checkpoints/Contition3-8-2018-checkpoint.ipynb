{
 "cells": [
  {
   "cell_type": "code",
   "execution_count": 1,
   "metadata": {},
   "outputs": [],
   "source": [
    "#number \n",
    "#create a variable wallet\n",
    "#assign value to wallet = 15,668\n",
    "#try to print how many of money in wallet as follows:\n",
    "#1000:15\n",
    "#500:1\n",
    "#100:1\n",
    "#50:1\n",
    "#20:0\n",
    "#10:1\n",
    "#5:1\n"
   ]
  },
  {
   "cell_type": "code",
   "execution_count": 39,
   "metadata": {},
   "outputs": [
    {
     "name": "stdout",
     "output_type": "stream",
     "text": [
      "1000: 10\n",
      "50: 0\n",
      "100: 0\n",
      "50: 0\n",
      "20: 0\n",
      "10: 0\n",
      "5: 0\n",
      "2: 0\n",
      "1: 0\n"
     ]
    }
   ],
   "source": [
    "wallet = 10000\n",
    "print ('1000: %d' % (wallet / 1000))\n",
    "wallet = wallet%1000\n",
    "print ('50: %d' % (wallet / 500))\n",
    "wallet = wallet%500\n",
    "print ('100: %d' % (wallet / 100))\n",
    "wallet = wallet%100\n",
    "print ('50: %d' % (wallet / 50))\n",
    "wallet = wallet%50\n",
    "print ('20: %d' % (wallet / 20))\n",
    "wallet = wallet%20\n",
    "print ('10: %d' % (wallet / 10))\n",
    "wallet = wallet%10\n",
    "print ('5: %d' % (wallet / 5))\n",
    "wallet = wallet%5\n",
    "print ('2: %d' % (wallet / 2))\n",
    "wallet = wallet%2\n",
    "print ('1: %d' % (wallet / 1))\n",
    "wallet = wallet%1"
   ]
  },
  {
   "cell_type": "code",
   "execution_count": 42,
   "metadata": {},
   "outputs": [
    {
     "name": "stdout",
     "output_type": "stream",
     "text": [
      "ok\n"
     ]
    }
   ],
   "source": [
    "# contril statement \n",
    "# condittion if ,if-else, if-else-if, swich-case\n",
    "# and, or ,not \n",
    "x = 0\n",
    "if x >= 0:\n",
    "    print ('ok')"
   ]
  },
  {
   "cell_type": "code",
   "execution_count": null,
   "metadata": {},
   "outputs": [],
   "source": [
    "x= 50\n",
    "ifx>=0 and x<=100:\n",
    "    print('ok')"
   ]
  },
  {
   "cell_type": "code",
   "execution_count": null,
   "metadata": {},
   "outputs": [],
   "source": []
  }
 ],
 "metadata": {
  "kernelspec": {
   "display_name": "Python 3",
   "language": "python",
   "name": "python3"
  },
  "language_info": {
   "codemirror_mode": {
    "name": "ipython",
    "version": 3
   },
   "file_extension": ".py",
   "mimetype": "text/x-python",
   "name": "python",
   "nbconvert_exporter": "python",
   "pygments_lexer": "ipython3",
   "version": "3.7.0"
  }
 },
 "nbformat": 4,
 "nbformat_minor": 2
}
