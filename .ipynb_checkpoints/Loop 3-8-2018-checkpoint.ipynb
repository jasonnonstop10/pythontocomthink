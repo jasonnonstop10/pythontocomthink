{
 "cells": [
  {
   "cell_type": "code",
   "execution_count": 4,
   "metadata": {},
   "outputs": [
    {
     "name": "stdout",
     "output_type": "stream",
     "text": [
      "hi\n",
      "hi\n",
      "hi\n",
      "hi\n",
      "hi\n",
      "hi\n",
      "hi\n",
      "hi\n",
      "hi\n",
      "hi\n",
      "End\n"
     ]
    }
   ],
   "source": [
    "#loop (Itertion)\n",
    "#Doing some tasks in finite condition\n",
    "#Loop: while loop,for loop\n",
    "#for  in Python know as far in\n",
    "i=0\n",
    "while i< 10:\n",
    "    print('hi')\n",
    "    i= i+1\n",
    "print ('End')"
   ]
  },
  {
   "cell_type": "code",
   "execution_count": 5,
   "metadata": {},
   "outputs": [
    {
     "name": "stdout",
     "output_type": "stream",
     "text": [
      "10\n",
      "9\n",
      "8\n",
      "7\n",
      "6\n",
      "5\n",
      "4\n",
      "3\n",
      "2\n",
      "1\n"
     ]
    }
   ],
   "source": [
    "i =10\n",
    "while i > 0: \n",
    "    print(i)\n",
    "    i=i-1"
   ]
  },
  {
   "cell_type": "code",
   "execution_count": 8,
   "metadata": {},
   "outputs": [
    {
     "name": "stdout",
     "output_type": "stream",
     "text": [
      "C\n",
      "S\n",
      " \n",
      "@\n",
      " \n",
      "s\n",
      "i\n",
      "t\n",
      " \n",
      ",\n",
      " \n",
      "K\n",
      "M\n",
      "U\n",
      "T\n",
      "T\n"
     ]
    }
   ],
   "source": [
    "name = 'CS @ sit , KMUTT'\n",
    "i=0\n",
    "while i < len(name):\n",
    "    if (name[i]!=' ') \n",
    "        print(name[i])\n",
    "    i=i+1"
   ]
  },
  {
   "cell_type": "code",
   "execution_count": null,
   "metadata": {},
   "outputs": [],
   "source": []
  }
 ],
 "metadata": {
  "kernelspec": {
   "display_name": "Python 3",
   "language": "python",
   "name": "python3"
  },
  "language_info": {
   "codemirror_mode": {
    "name": "ipython",
    "version": 3
   },
   "file_extension": ".py",
   "mimetype": "text/x-python",
   "name": "python",
   "nbconvert_exporter": "python",
   "pygments_lexer": "ipython3",
   "version": "3.7.0"
  }
 },
 "nbformat": 4,
 "nbformat_minor": 2
}
